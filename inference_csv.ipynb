{
 "cells": [
  {
   "cell_type": "code",
   "execution_count": 1,
   "metadata": {},
   "outputs": [],
   "source": [
    "import torch\n",
    "import pickle\n",
    "import numpy as np\n",
    "import mmpretrain\n",
    "import mmengine\n",
    "from mmengine.fileio import get\n",
    "from mmpretrain.apis import init_model\n",
    "from mmengine.device import get_device\n",
    "import mmengine\n",
    "from mmengine.config import Config, ConfigDict, DictAction\n",
    "from mmengine.evaluator import DumpResults\n",
    "from mmengine.registry import RUNNERS\n",
    "from mmengine.runner import Runner\n",
    "torch.cuda.empty_cache()"
   ]
  },
  {
   "cell_type": "code",
   "execution_count": 2,
   "metadata": {},
   "outputs": [
    {
     "name": "stdout",
     "output_type": "stream",
     "text": [
      "Loads checkpoint by local backend from path: /scratch/yw6594/cf/mmcl/out/dl/res18-c10/cifarbase/c32/epoch_200.pth\n"
     ]
    }
   ],
   "source": [
    "path = '/scratch/yw6594/cf/data/cifar10/cifar-10-batches-py/cifar_test_nolabels.pkl'\n",
    "data = mmengine.load(path)\n",
    "imgs = data[b'data']\n",
    "config = '/scratch/yw6594/cf/mmcl/cifar-img/dl_res18_exp/cifar10_resnet18_c32_kaggle.py'\n",
    "model_cpt = '/scratch/yw6594/cf/mmcl/out/dl/res18-c10/cifarbase/c32/epoch_200.pth'\n",
    "\n",
    "\n",
    "model = init_model(config, model_cpt)\n",
    "# cfg = Config.fromfile(config)\n",
    "# cfg.load_from = model_cpt\n",
    "# runner = Runner.from_cfg(cfg)\n",
    "\n"
   ]
  },
  {
   "cell_type": "code",
   "execution_count": 3,
   "metadata": {},
   "outputs": [],
   "source": [
    "### data ..to(get_device())\n",
    "output = []\n",
    "length = len(imgs)\n",
    "bs = 1000\n",
    "with torch.no_grad():\n",
    "    model = model.to(get_device())\n",
    "    mean = torch.tensor([125.307, 122.961, 113.8575]).view(-1, 1, 1).to(get_device()).detach()\n",
    "    std = torch.tensor([51.5865, 50.847, 51.255]).view(-1, 1, 1).to(get_device()).detach()\n",
    "    for i, img in enumerate(imgs):\n",
    "        img = img.reshape(-1, 3, 32, 32)\n",
    "        img = torch.tensor(img, dtype=torch.float).to(get_device())\n",
    "        img = (img - mean)/std\n",
    "        pred = model(img).detach()\n",
    "        output.append({\"ID\":i,\"Labels\":pred.cpu().max(1)[1].item()})\n",
    "        del img, pred\n",
    "    del model\n",
    "torch.cuda.empty_cache()\n",
    "# print(output)\n",
    "# output = torch.cat(output,dim=0)"
   ]
  },
  {
   "cell_type": "code",
   "execution_count": null,
   "metadata": {},
   "outputs": [],
   "source": [
    "torch.cuda.empty_cache()\n",
    "import pandas as pd\n",
    "df = pd.DataFrame(output)\n",
    "df.to_csv('/scratch/yw6594/cf/mmcl/out/dl/res18-c10/out_32.csv', index=False)"
   ]
  },
  {
   "cell_type": "code",
   "execution_count": null,
   "metadata": {},
   "outputs": [],
   "source": []
  }
 ],
 "metadata": {
  "kernelspec": {
   "display_name": "cl",
   "language": "python",
   "name": "python3"
  },
  "language_info": {
   "codemirror_mode": {
    "name": "ipython",
    "version": 3
   },
   "file_extension": ".py",
   "mimetype": "text/x-python",
   "name": "python",
   "nbconvert_exporter": "python",
   "pygments_lexer": "ipython3",
   "version": "3.8.18"
  }
 },
 "nbformat": 4,
 "nbformat_minor": 2
}
